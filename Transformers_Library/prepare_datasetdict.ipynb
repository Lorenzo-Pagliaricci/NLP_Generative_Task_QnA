{
 "cells": [
  {
   "cell_type": "markdown",
   "id": "5f4bada4",
   "metadata": {},
   "source": [
    "# Install and Import Required Libraries\n",
    "\n",
    "Install the `datasets` library if not already installed and import the necessary modules.\n"
   ]
  },
  {
   "cell_type": "code",
   "execution_count": 11,
   "id": "46110419",
   "metadata": {},
   "outputs": [],
   "source": [
    "# Install the datasets library if not already installed\n",
    "# !pip install datasets\n",
    "\n",
    "# Import necessary modules\n",
    "from datasets import load_dataset, DatasetDict\n",
    "from transformers import AutoTokenizer\n",
    "import os"
   ]
  },
  {
   "cell_type": "markdown",
   "id": "f5f30c2c",
   "metadata": {},
   "source": [
    "# Load the Dataset\n",
    "\n",
    "Use the `datasets` library to fetch and load the dataset from the Hugging Face Hub.\n"
   ]
  },
  {
   "cell_type": "code",
   "execution_count": 12,
   "id": "6f563a8c",
   "metadata": {},
   "outputs": [],
   "source": [
    "# Load the dataset from the Hugging Face Hub\n",
    "dataset_name = \"enelpol/rag-mini-bioasq\"  # Replace with the desired dataset name\n",
    "dataset = load_dataset(dataset_name, \"question-answer-passages\")"
   ]
  },
  {
   "cell_type": "markdown",
   "id": "aa44faef",
   "metadata": {},
   "source": [
    "# Split the Dataset into Train, Test, and Validation\n",
    "\n",
    "Split the dataset into training, testing, and validation subsets using the `train_test_split` method or similar functionality.\n"
   ]
  },
  {
   "cell_type": "code",
   "execution_count": 13,
   "id": "7329581b",
   "metadata": {},
   "outputs": [],
   "source": [
    "# Split the train dataset into train and validation subsets; keep test unchanged\n",
    "\n",
    "train_validation_split = dataset[\"train\"].train_test_split(test_size=0.1, seed=42)\n",
    "train_dataset = train_validation_split[\"train\"]\n",
    "validation_dataset = train_validation_split[\"test\"]\n",
    "test_dataset = dataset[\"test\"]"
   ]
  },
  {
   "cell_type": "markdown",
   "id": "92c6813c",
   "metadata": {},
   "source": [
    "# Create a DatasetDict\n",
    "\n",
    "Combine the train, test, and validation subsets into a `DatasetDict` object for further processing.\n"
   ]
  },
  {
   "cell_type": "code",
   "execution_count": 14,
   "id": "66492fb1",
   "metadata": {},
   "outputs": [
    {
     "name": "stdout",
     "output_type": "stream",
     "text": [
      "DatasetDict({\n",
      "    train: Dataset({\n",
      "        features: ['question', 'answer', 'id', 'relevant_passage_ids'],\n",
      "        num_rows: 3610\n",
      "    })\n",
      "    test: Dataset({\n",
      "        features: ['question', 'answer', 'id', 'relevant_passage_ids'],\n",
      "        num_rows: 707\n",
      "    })\n",
      "    validation: Dataset({\n",
      "        features: ['question', 'answer', 'id', 'relevant_passage_ids'],\n",
      "        num_rows: 402\n",
      "    })\n",
      "})\n"
     ]
    }
   ],
   "source": [
    "# Combine the subsets into a DatasetDict\n",
    "dataset_dict = DatasetDict(\n",
    "    {\"train\": train_dataset, \"test\": test_dataset, \"validation\": validation_dataset}\n",
    ")\n",
    "\n",
    "# Display the structure of the DatasetDict\n",
    "print(dataset_dict)"
   ]
  },
  {
   "cell_type": "markdown",
   "id": "e136f4a2",
   "metadata": {},
   "source": [
    "# Save the Raw DatasetDict\n",
    "\n",
    "Save the unprocessed `DatasetDict` to disk for future use.\n"
   ]
  },
  {
   "cell_type": "code",
   "execution_count": 15,
   "id": "2fd3617d",
   "metadata": {},
   "outputs": [
    {
     "name": "stderr",
     "output_type": "stream",
     "text": [
      "Saving the dataset (1/1 shards): 100%|██████████| 3610/3610 [00:00<00:00, 166237.80 examples/s]\n",
      "Saving the dataset (1/1 shards): 100%|██████████| 707/707 [00:00<00:00, 95285.27 examples/s] \n",
      "Saving the dataset (1/1 shards): 100%|██████████| 402/402 [00:00<00:00, 55772.37 examples/s]"
     ]
    },
    {
     "name": "stdout",
     "output_type": "stream",
     "text": [
      "Raw dataset saved to data/prepared_data\n"
     ]
    },
    {
     "name": "stderr",
     "output_type": "stream",
     "text": [
      "\n"
     ]
    }
   ],
   "source": [
    "os.makedirs(\"data/prepared_data\", exist_ok=True)  # Create directory if it doesn't exist\n",
    "dataset_dict.save_to_disk(\"data/prepared_data\")  # Save the dataset to disk\n",
    "print(\"Raw dataset saved to data/prepared_data\")"
   ]
  },
  {
   "cell_type": "markdown",
   "id": "64e46045",
   "metadata": {},
   "source": [
    "# Preprocess the Dataset for Model Training\n",
    "\n",
    "Tokenize the dataset for use with the T5 model. This step is crucial for fine-tuning as it converts the text data into the format required by the model.\n"
   ]
  },
  {
   "cell_type": "code",
   "execution_count": 16,
   "id": "08af74dd",
   "metadata": {},
   "outputs": [],
   "source": [
    "# Define the model name for tokenization\n",
    "model_name = (\n",
    "    \"hmbyt5/byt5-small-english\"  # This should match the model in .env file\n",
    ")\n",
    "\n",
    "# Load the tokenizer for the specified model\n",
    "tokenizer = AutoTokenizer.from_pretrained(model_name)"
   ]
  },
  {
   "cell_type": "code",
   "execution_count": 17,
   "id": "08645dc5",
   "metadata": {},
   "outputs": [],
   "source": [
    "# Define the preprocessing function\n",
    "def preprocess_function(examples):\n",
    "    # Define the system prompt to be prepended to questions\n",
    "    FINETUNING_SYSTEM_PROMPT = \"\"\"You are a helpful reading assistant who answers questions.\n",
    "    Be concise. If you're unsure, just say that you don't know. \\n\\nQuestion: \"\"\"\n",
    "    inputs = [FINETUNING_SYSTEM_PROMPT + q for q in examples[\"question\"]]\n",
    "\n",
    "    # Tokenize the inputs (questions) with padding and truncation\n",
    "    model_inputs = tokenizer(\n",
    "        inputs,\n",
    "        max_length=512,\n",
    "        truncation=True,\n",
    "        # padding=\"longest\"\n",
    "    )\n",
    "\n",
    "    # Tokenize the targets (answers) to create the labels\n",
    "    labels = tokenizer(\n",
    "        text_target=examples[\"answer\"],\n",
    "        max_length=512,\n",
    "        truncation=True,\n",
    "        # padding=\"max_length\",\n",
    "    )\n",
    "\n",
    "    # Add the labels to the model inputs\n",
    "    model_inputs[\"labels\"] = labels[\"input_ids\"]\n",
    "\n",
    "    return model_inputs"
   ]
  },
  {
   "cell_type": "code",
   "execution_count": 18,
   "id": "4f039ddb",
   "metadata": {},
   "outputs": [
    {
     "name": "stderr",
     "output_type": "stream",
     "text": [
      "Map:   0%|          | 0/3610 [00:00<?, ? examples/s]"
     ]
    },
    {
     "name": "stderr",
     "output_type": "stream",
     "text": [
      "Map: 100%|██████████| 3610/3610 [00:00<00:00, 3716.28 examples/s]\n",
      "Map: 100%|██████████| 707/707 [00:00<00:00, 4241.81 examples/s]\n",
      "Map: 100%|██████████| 402/402 [00:00<00:00, 4164.63 examples/s]"
     ]
    },
    {
     "name": "stdout",
     "output_type": "stream",
     "text": [
      "DatasetDict({\n",
      "    train: Dataset({\n",
      "        features: ['input_ids', 'attention_mask', 'labels'],\n",
      "        num_rows: 3610\n",
      "    })\n",
      "    test: Dataset({\n",
      "        features: ['input_ids', 'attention_mask', 'labels'],\n",
      "        num_rows: 707\n",
      "    })\n",
      "    validation: Dataset({\n",
      "        features: ['input_ids', 'attention_mask', 'labels'],\n",
      "        num_rows: 402\n",
      "    })\n",
      "})\n"
     ]
    },
    {
     "name": "stderr",
     "output_type": "stream",
     "text": [
      "\n"
     ]
    }
   ],
   "source": [
    "# Apply the preprocessing function to the dataset\n",
    "tokenized_datasets = dataset_dict.map(preprocess_function, batched=True)\n",
    "\n",
    "# Remove the original columns as they are no longer needed by the model\n",
    "tokenized_datasets = tokenized_datasets.remove_columns(\n",
    "    [\"question\", \"answer\", \"id\", \"relevant_passage_ids\"]\n",
    ")\n",
    "\n",
    "# Display the structure of the tokenized dataset\n",
    "print(tokenized_datasets)"
   ]
  },
  {
   "cell_type": "markdown",
   "id": "6baba770",
   "metadata": {},
   "source": [
    "# Save the Tokenized Dataset\n",
    "\n",
    "Save the preprocessed and tokenized `DatasetDict` to disk for use with the model training script.\n"
   ]
  },
  {
   "cell_type": "code",
   "execution_count": 19,
   "id": "3cd688f7",
   "metadata": {},
   "outputs": [
    {
     "name": "stderr",
     "output_type": "stream",
     "text": [
      "Saving the dataset (1/1 shards): 100%|██████████| 3610/3610 [00:00<00:00, 533957.66 examples/s]\n",
      "Saving the dataset (1/1 shards): 100%|██████████| 707/707 [00:00<00:00, 175299.89 examples/s]\n",
      "Saving the dataset (1/1 shards): 100%|██████████| 402/402 [00:00<00:00, 181810.46 examples/s]"
     ]
    },
    {
     "name": "stdout",
     "output_type": "stream",
     "text": [
      "Tokenized dataset saved to data/tokenized_data\n"
     ]
    },
    {
     "name": "stderr",
     "output_type": "stream",
     "text": [
      "\n"
     ]
    }
   ],
   "source": [
    "# Create directory for the tokenized dataset\n",
    "tokenized_dataset_path = \"data/tokenized_data\"\n",
    "os.makedirs(tokenized_dataset_path, exist_ok=True)\n",
    "\n",
    "tokenized_datasets.set_format(\"torch\")  # Set the format to PyTorch tensors\n",
    "# Save the tokenized dataset to disk\n",
    "tokenized_datasets.save_to_disk(tokenized_dataset_path)\n",
    "print(f\"Tokenized dataset saved to {tokenized_dataset_path}\")"
   ]
  }
 ],
 "metadata": {
  "kernelspec": {
   "display_name": ".venv",
   "language": "python",
   "name": "python3"
  },
  "language_info": {
   "codemirror_mode": {
    "name": "ipython",
    "version": 3
   },
   "file_extension": ".py",
   "mimetype": "text/x-python",
   "name": "python",
   "nbconvert_exporter": "python",
   "pygments_lexer": "ipython3",
   "version": "3.10.16"
  }
 },
 "nbformat": 4,
 "nbformat_minor": 5
}
