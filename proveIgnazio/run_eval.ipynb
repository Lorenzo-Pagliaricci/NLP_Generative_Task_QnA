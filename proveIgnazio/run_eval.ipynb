{
 "cells": [
  {
   "cell_type": "code",
   "execution_count": 1,
   "metadata": {},
   "outputs": [],
   "source": [
    "from mlx_lm import load, generate\n",
    "import json\n",
    "from tqdm import tqdm\n",
    "import csv"
   ]
  },
  {
   "cell_type": "code",
   "execution_count": null,
   "metadata": {},
   "outputs": [],
   "source": [
    "OUT_CSV = './data/eval_out.csv'"
   ]
  },
  {
   "cell_type": "code",
   "execution_count": 8,
   "metadata": {},
   "outputs": [],
   "source": [
    "# Load test data\n",
    "with open(\"data/processed/test.jsonl\", \"r\") as f:\n",
    "    test_data = [json.loads(line) for line in f]"
   ]
  },
  {
   "cell_type": "code",
   "execution_count": 4,
   "metadata": {},
   "outputs": [
    {
     "name": "stdout",
     "output_type": "stream",
     "text": [
      "Loading base model...\n",
      "Loading fine-tuned model...\n"
     ]
    }
   ],
   "source": [
    "print('Loading base model...')\n",
    "model_base, tokenizer_base = load('./models/base/Llama-3.2-1B-Instruct-4bit')\n",
    "\n",
    "print('Loading fine-tuned model...')\n",
    "model_ft, tkenizer_ft= load('./models/fused/fused_Llama-3.2-1B-Instruct-4bit_2bs_4ls')"
   ]
  },
  {
   "cell_type": "code",
   "execution_count": null,
   "metadata": {},
   "outputs": [],
   "source": [
    "# prepare OUT CSV\n",
    "with open(OUT_CSV, 'w', newline='') as csvfile:\n",
    "\tcsv_writer = csv.writer(csvfile)\n",
    "\t# Write the header\n",
    "\tcsv_writer.writerow(['Streamer', '#', 'Base - Question Prompt', 'Finetuned - Question Prompt'])\n"
   ]
  }
 ],
 "metadata": {
  "kernelspec": {
   "display_name": ".venv",
   "language": "python",
   "name": "python3"
  },
  "language_info": {
   "codemirror_mode": {
    "name": "ipython",
    "version": 3
   },
   "file_extension": ".py",
   "mimetype": "text/x-python",
   "name": "python",
   "nbconvert_exporter": "python",
   "pygments_lexer": "ipython3",
   "version": "3.10.16"
  }
 },
 "nbformat": 4,
 "nbformat_minor": 2
}
