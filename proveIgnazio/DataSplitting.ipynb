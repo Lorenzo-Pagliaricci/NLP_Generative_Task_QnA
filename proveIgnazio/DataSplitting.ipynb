{
 "cells": [
  {
   "cell_type": "code",
   "execution_count": 16,
   "metadata": {},
   "outputs": [],
   "source": [
    "from datasets import load_dataset\n",
    "import json\n",
    "from sklearn.model_selection import train_test_split\n",
    "import os"
   ]
  },
  {
   "cell_type": "code",
   "execution_count": 17,
   "metadata": {},
   "outputs": [],
   "source": [
    "dataset = load_dataset(\"rag-datasets/rag-mini-bioasq\", 'question-answer-passages')"
   ]
  },
  {
   "cell_type": "code",
   "execution_count": 18,
   "metadata": {},
   "outputs": [],
   "source": [
    "# Get the first split ('test')\n",
    "split_name = list(dataset.keys())[0]\n",
    "split_data = dataset[split_name]\n"
   ]
  },
  {
   "cell_type": "code",
   "execution_count": 19,
   "metadata": {},
   "outputs": [
    {
     "data": {
      "text/plain": [
       "Dataset({\n",
       "    features: ['question', 'answer', 'relevant_passage_ids', 'id'],\n",
       "    num_rows: 4719\n",
       "})"
      ]
     },
     "execution_count": 19,
     "metadata": {},
     "output_type": "execute_result"
    }
   ],
   "source": [
    "split_data"
   ]
  },
  {
   "cell_type": "code",
   "execution_count": 20,
   "metadata": {},
   "outputs": [],
   "source": [
    "# Convert split_data to a list of dictionaries\n",
    "split_data_list = [example for example in split_data]\n",
    "\n",
    "# Split data into train (90%) and validation (10%) sets\n",
    "train_data, valid_data = train_test_split(split_data_list, test_size=0.1, random_state=42)"
   ]
  },
  {
   "cell_type": "code",
   "execution_count": 21,
   "metadata": {},
   "outputs": [],
   "source": [
    "# Create directory if it doesn't exist\n",
    "os.makedirs('data/processed', exist_ok=True)\n",
    "\n",
    "# Create the training JSONL file\n",
    "with open('data/processed/train.jsonl', 'w', encoding='utf-8') as f:\n",
    "    for example in train_data:\n",
    "        item = {\n",
    "            \"prompt\": example['question'],\n",
    "            \"completion\": example['answer']\n",
    "        }\n",
    "        f.write(json.dumps(item) + '\\n')\n",
    "\n",
    "\n",
    "# Create the validation JSONL file\n",
    "with open('data/processed/valid.jsonl', 'w', encoding='utf-8') as f:\n",
    "    for example in valid_data:\n",
    "        item = {\n",
    "            \"prompt\": example['question'],\n",
    "            \"completion\": example['answer']\n",
    "        }\n",
    "        f.write(json.dumps(item) + '\\n')"
   ]
  },
  {
   "cell_type": "code",
   "execution_count": null,
   "metadata": {},
   "outputs": [],
   "source": []
  }
 ],
 "metadata": {
  "kernelspec": {
   "display_name": ".venv",
   "language": "python",
   "name": "python3"
  },
  "language_info": {
   "codemirror_mode": {
    "name": "ipython",
    "version": 3
   },
   "file_extension": ".py",
   "mimetype": "text/x-python",
   "name": "python",
   "nbconvert_exporter": "python",
   "pygments_lexer": "ipython3",
   "version": "3.10.16"
  }
 },
 "nbformat": 4,
 "nbformat_minor": 2
}
