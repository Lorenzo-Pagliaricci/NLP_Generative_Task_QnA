{
 "cells": [
  {
   "cell_type": "code",
   "execution_count": 1,
   "metadata": {},
   "outputs": [
    {
     "name": "stderr",
     "output_type": "stream",
     "text": [
      "/Users/ignazioemanuelepicciche/Documents/Ignazio PC/ucbm/deep_learning/NLP_Generative_Task_QnA/.venv/lib/python3.10/site-packages/tqdm/auto.py:21: TqdmWarning: IProgress not found. Please update jupyter and ipywidgets. See https://ipywidgets.readthedocs.io/en/stable/user_install.html\n",
      "  from .autonotebook import tqdm as notebook_tqdm\n",
      "Fetching 7 files: 100%|██████████| 7/7 [00:42<00:00,  6.08s/it]\n"
     ]
    },
    {
     "name": "stdout",
     "output_type": "stream",
     "text": [
      "Title: A Brush with Genius: The Encounter of the Young Artist and Albert Einstein\n",
      "\n",
      "In the quaint town of Bern, Switzerland, nestled amidst the picturesque Alps, lived a young, aspiring artist named Max. Max was a peculiar child, not because of his artistic talents, but because of his insatiable curiosity and an unusual friend.\n",
      "\n",
      "Max's friend was none other than Albert Einstein, the renowned physicist who would one day change the world with his theory of relativity. At the time, however, Einstein was just a humble patent clerk, struggling to make ends meet.\n",
      "\n",
      "Max and Einstein's friendship was an unlikely one. Max would often visit Einstein at the patent office, where he would draw portraits of the physicist deep in thought, engrossed in his equations. Einstein, in return, would engage Max in stimulating conversations about science, philosophy, and art.\n",
      "\n",
      "One day, Max brought a new painting to show Einstein. It was a vibrant depiction of the universe, filled with swirling galaxies, pulsating stars, and cosmic energy. Einstein looked at the painting, his eyes sparkling with admiration. \"Max,\" he said, \"this is not just a painting. It's a window into the cosmos.\"\n",
      "\n",
      "Max was taken aback. He had always known that Einstein was a brilliant mind, but he had never expected such a profound response. \"Do you truly believe that, Albert?\" Max asked, his eyes wide with wonder.\n",
      "\n",
      "Einstein nodded. \"I do, Max. Art and science are not as different as people think. Both are about understanding the world around us, about asking questions and seeking answers. Your painting is a testament to that.\"\n",
      "\n",
      "This conversation sparked a fire within Max. He began to see his art not just as a hobby, but as a means to explore the mysteries of the universe. He started incorporating Einstein's theories into his work, creating abstract pieces that reflected the complexities of space and time.\n",
      "\n",
      "Einstein, in turn, found a newfound appreciation for art. He began to see it as a way to visualize his theories, to make them accessible to the masses. He would often discuss his ideas with Max, bouncing off ideas and seeking his friend's artistic perspective.\n",
      "\n",
      "Their friendship continued to flourish, influencing each other's\n"
     ]
    }
   ],
   "source": [
    "from mlx_lm import load, stream_generate\n",
    "\n",
    "repo = \"mlx-community/Mistral-7B-Instruct-v0.3-4bit\"\n",
    "model, tokenizer = load(repo)\n",
    "\n",
    "prompt = \"Write a story about Einstein\"\n",
    "\n",
    "messages = [{\"role\": \"user\", \"content\": prompt}]\n",
    "prompt = tokenizer.apply_chat_template(\n",
    "    messages, add_generation_prompt=True\n",
    ")\n",
    "\n",
    "for response in stream_generate(model, tokenizer, prompt, max_tokens=512):\n",
    "    print(response.text, end=\"\", flush=True)\n",
    "print()"
   ]
  },
  {
   "cell_type": "code",
   "execution_count": null,
   "metadata": {},
   "outputs": [],
   "source": []
  }
 ],
 "metadata": {
  "kernelspec": {
   "display_name": ".venv",
   "language": "python",
   "name": "python3"
  },
  "language_info": {
   "codemirror_mode": {
    "name": "ipython",
    "version": 3
   },
   "file_extension": ".py",
   "mimetype": "text/x-python",
   "name": "python",
   "nbconvert_exporter": "python",
   "pygments_lexer": "ipython3",
   "version": "3.10.16"
  }
 },
 "nbformat": 4,
 "nbformat_minor": 2
}
