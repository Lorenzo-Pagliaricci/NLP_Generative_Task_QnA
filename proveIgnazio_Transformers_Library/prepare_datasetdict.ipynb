{
 "cells": [
  {
   "cell_type": "markdown",
   "id": "5f4bada4",
   "metadata": {},
   "source": [
    "# Install and Import Required Libraries\n",
    "Install the `datasets` library if not already installed and import the necessary modules."
   ]
  },
  {
   "cell_type": "code",
   "execution_count": 15,
   "id": "46110419",
   "metadata": {},
   "outputs": [],
   "source": [
    "# Install the datasets library if not already installed\n",
    "# !pip install datasets\n",
    "\n",
    "# Import necessary modules\n",
    "from datasets import load_dataset, DatasetDict\n",
    "import os"
   ]
  },
  {
   "cell_type": "markdown",
   "id": "f5f30c2c",
   "metadata": {},
   "source": [
    "# Load the Dataset\n",
    "Use the `datasets` library to fetch and load the dataset from the Hugging Face Hub."
   ]
  },
  {
   "cell_type": "code",
   "execution_count": 3,
   "id": "6f563a8c",
   "metadata": {},
   "outputs": [],
   "source": [
    "# Load the dataset from the Hugging Face Hub\n",
    "dataset_name = \"enelpol/rag-mini-bioasq\"  # Replace with the desired dataset name\n",
    "dataset = load_dataset(dataset_name, 'question-answer-passages')"
   ]
  },
  {
   "cell_type": "markdown",
   "id": "aa44faef",
   "metadata": {},
   "source": [
    "# Split the Dataset into Train, Test, and Validation\n",
    "Split the dataset into training, testing, and validation subsets using the `train_test_split` method or similar functionality."
   ]
  },
  {
   "cell_type": "code",
   "execution_count": 9,
   "id": "7329581b",
   "metadata": {},
   "outputs": [],
   "source": [
    "# Split the train dataset into train and validation subsets; keep test unchanged\n",
    "\n",
    "train_validation_split = dataset[\"train\"].train_test_split(test_size=0.2, seed=42)\n",
    "train_dataset = train_validation_split[\"train\"]\n",
    "validation_dataset = train_validation_split[\"test\"]\n",
    "test_dataset = dataset[\"test\"]\n"
   ]
  },
  {
   "cell_type": "markdown",
   "id": "92c6813c",
   "metadata": {},
   "source": [
    "# Create a DatasetDict\n",
    "Combine the train, test, and validation subsets into a `DatasetDict` object for further processing."
   ]
  },
  {
   "cell_type": "code",
   "execution_count": 13,
   "id": "66492fb1",
   "metadata": {},
   "outputs": [
    {
     "name": "stdout",
     "output_type": "stream",
     "text": [
      "DatasetDict({\n",
      "    train: Dataset({\n",
      "        features: ['question', 'answer', 'id', 'relevant_passage_ids'],\n",
      "        num_rows: 3209\n",
      "    })\n",
      "    test: Dataset({\n",
      "        features: ['question', 'answer', 'id', 'relevant_passage_ids'],\n",
      "        num_rows: 707\n",
      "    })\n",
      "    validation: Dataset({\n",
      "        features: ['question', 'answer', 'id', 'relevant_passage_ids'],\n",
      "        num_rows: 803\n",
      "    })\n",
      "})\n"
     ]
    }
   ],
   "source": [
    "# Combine the subsets into a DatasetDict\n",
    "dataset_dict = DatasetDict({\n",
    "    \"train\": train_dataset,\n",
    "    \"test\": test_dataset,\n",
    "    \"validation\": validation_dataset\n",
    "})\n",
    "\n",
    "# Display the structure of the DatasetDict\n",
    "print(dataset_dict)"
   ]
  },
  {
   "cell_type": "code",
   "execution_count": 14,
   "id": "2fd3617d",
   "metadata": {},
   "outputs": [
    {
     "name": "stderr",
     "output_type": "stream",
     "text": [
      "Saving the dataset (1/1 shards): 100%|██████████| 3209/3209 [00:00<00:00, 36925.78 examples/s]\n",
      "Saving the dataset (1/1 shards): 100%|██████████| 707/707 [00:00<00:00, 135491.77 examples/s]\n",
      "Saving the dataset (1/1 shards): 100%|██████████| 803/803 [00:00<00:00, 161963.27 examples/s]\n"
     ]
    }
   ],
   "source": [
    "os.makedirs(\"data/prepared_data\", exist_ok=True)  # Create directory if it doesn't exist\n",
    "dataset_dict.save_to_disk(\"data/prepared_data\")  # Save the dataset to disk"
   ]
  },
  {
   "cell_type": "code",
   "execution_count": null,
   "id": "472bf970",
   "metadata": {},
   "outputs": [],
   "source": []
  }
 ],
 "metadata": {
  "kernelspec": {
   "display_name": ".venv",
   "language": "python",
   "name": "python3"
  },
  "language_info": {
   "codemirror_mode": {
    "name": "ipython",
    "version": 3
   },
   "file_extension": ".py",
   "mimetype": "text/x-python",
   "name": "python",
   "nbconvert_exporter": "python",
   "pygments_lexer": "ipython3",
   "version": "3.10.16"
  }
 },
 "nbformat": 4,
 "nbformat_minor": 5
}
