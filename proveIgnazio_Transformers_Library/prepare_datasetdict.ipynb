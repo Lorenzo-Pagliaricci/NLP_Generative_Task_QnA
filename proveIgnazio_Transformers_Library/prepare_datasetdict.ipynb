{
 "cells": [
  {
   "cell_type": "markdown",
   "id": "5f4bada4",
   "metadata": {},
   "source": [
    "# Install and Import Required Libraries\n",
    "Install the `datasets` library if not already installed and import the necessary modules."
   ]
  },
  {
   "cell_type": "code",
   "execution_count": 2,
   "id": "46110419",
   "metadata": {},
   "outputs": [
    {
     "name": "stderr",
     "output_type": "stream",
     "text": [
      "/Users/ignazioemanuelepicciche/Documents/Ignazio PC/ucbm/deep_learning/NLP_Generative_Task_QnA/.venv/lib/python3.10/site-packages/tqdm/auto.py:21: TqdmWarning: IProgress not found. Please update jupyter and ipywidgets. See https://ipywidgets.readthedocs.io/en/stable/user_install.html\n",
      "  from .autonotebook import tqdm as notebook_tqdm\n",
      "WARNING:torchao.kernel.intmm:Warning: Detected no triton, on systems without Triton certain kernels will not work\n"
     ]
    }
   ],
   "source": [
    "# Install the datasets library if not already installed\n",
    "# !pip install datasets\n",
    "\n",
    "# Import necessary modules\n",
    "from datasets import load_dataset, DatasetDict\n",
    "from transformers import AutoTokenizer\n",
    "import os"
   ]
  },
  {
   "cell_type": "markdown",
   "id": "f5f30c2c",
   "metadata": {},
   "source": [
    "# Load the Dataset\n",
    "Use the `datasets` library to fetch and load the dataset from the Hugging Face Hub."
   ]
  },
  {
   "cell_type": "code",
   "execution_count": 3,
   "id": "6f563a8c",
   "metadata": {},
   "outputs": [],
   "source": [
    "# Load the dataset from the Hugging Face Hub\n",
    "dataset_name = \"enelpol/rag-mini-bioasq\"  # Replace with the desired dataset name\n",
    "dataset = load_dataset(dataset_name, 'question-answer-passages')"
   ]
  },
  {
   "cell_type": "markdown",
   "id": "aa44faef",
   "metadata": {},
   "source": [
    "# Split the Dataset into Train, Test, and Validation\n",
    "Split the dataset into training, testing, and validation subsets using the `train_test_split` method or similar functionality."
   ]
  },
  {
   "cell_type": "code",
   "execution_count": 4,
   "id": "7329581b",
   "metadata": {},
   "outputs": [],
   "source": [
    "# Split the train dataset into train and validation subsets; keep test unchanged\n",
    "\n",
    "train_validation_split = dataset[\"train\"].train_test_split(test_size=0.2, seed=42)\n",
    "train_dataset = train_validation_split[\"train\"]\n",
    "validation_dataset = train_validation_split[\"test\"]\n",
    "test_dataset = dataset[\"test\"]\n"
   ]
  },
  {
   "cell_type": "markdown",
   "id": "92c6813c",
   "metadata": {},
   "source": [
    "# Create a DatasetDict\n",
    "Combine the train, test, and validation subsets into a `DatasetDict` object for further processing."
   ]
  },
  {
   "cell_type": "code",
   "execution_count": 5,
   "id": "66492fb1",
   "metadata": {},
   "outputs": [
    {
     "name": "stdout",
     "output_type": "stream",
     "text": [
      "DatasetDict({\n",
      "    train: Dataset({\n",
      "        features: ['question', 'answer', 'id', 'relevant_passage_ids'],\n",
      "        num_rows: 3209\n",
      "    })\n",
      "    test: Dataset({\n",
      "        features: ['question', 'answer', 'id', 'relevant_passage_ids'],\n",
      "        num_rows: 707\n",
      "    })\n",
      "    validation: Dataset({\n",
      "        features: ['question', 'answer', 'id', 'relevant_passage_ids'],\n",
      "        num_rows: 803\n",
      "    })\n",
      "})\n"
     ]
    }
   ],
   "source": [
    "# Combine the subsets into a DatasetDict\n",
    "dataset_dict = DatasetDict({\n",
    "    \"train\": train_dataset,\n",
    "    \"test\": test_dataset,\n",
    "    \"validation\": validation_dataset\n",
    "})\n",
    "\n",
    "# Display the structure of the DatasetDict\n",
    "print(dataset_dict)"
   ]
  },
  {
   "cell_type": "markdown",
   "id": "e136f4a2",
   "metadata": {},
   "source": [
    "# Save the Raw DatasetDict\n",
    "Save the unprocessed `DatasetDict` to disk for future use."
   ]
  },
  {
   "cell_type": "code",
   "execution_count": 6,
   "id": "2fd3617d",
   "metadata": {},
   "outputs": [
    {
     "name": "stderr",
     "output_type": "stream",
     "text": [
      "Saving the dataset (1/1 shards): 100%|██████████| 3209/3209 [00:00<00:00, 197105.14 examples/s]\n",
      "Saving the dataset (1/1 shards): 100%|██████████| 707/707 [00:00<00:00, 300717.26 examples/s]\n",
      "Saving the dataset (1/1 shards): 100%|██████████| 803/803 [00:00<00:00, 219644.33 examples/s]"
     ]
    },
    {
     "name": "stdout",
     "output_type": "stream",
     "text": [
      "Raw dataset saved to data/prepared_data\n"
     ]
    },
    {
     "name": "stderr",
     "output_type": "stream",
     "text": [
      "\n"
     ]
    }
   ],
   "source": [
    "os.makedirs(\"data/prepared_data\", exist_ok=True)  # Create directory if it doesn't exist\n",
    "dataset_dict.save_to_disk(\"data/prepared_data\")  # Save the dataset to disk\n",
    "print(\"Raw dataset saved to data/prepared_data\")"
   ]
  },
  {
   "cell_type": "markdown",
   "id": "64e46045",
   "metadata": {},
   "source": [
    "# Preprocess the Dataset for Model Training\n",
    "Tokenize the dataset for use with the T5 model. This step is crucial for fine-tuning as it converts the text data into the format required by the model."
   ]
  },
  {
   "cell_type": "code",
   "execution_count": 7,
   "id": "08af74dd",
   "metadata": {},
   "outputs": [],
   "source": [
    "# Define the model name for tokenization\n",
    "model_name = \"google-t5/t5-small\"  # This should match the model in .env file\n",
    "\n",
    "# Load the tokenizer for the specified model\n",
    "tokenizer = AutoTokenizer.from_pretrained(model_name)"
   ]
  },
  {
   "cell_type": "code",
   "execution_count": 8,
   "id": "08645dc5",
   "metadata": {},
   "outputs": [],
   "source": [
    "# Define the preprocessing function\n",
    "def preprocess_function(examples):\n",
    "    # Add a prefix to the questions as T5 is trained with task prefixes\n",
    "    prefix = \"answer the question: \"\n",
    "    inputs = [prefix + q for q in examples[\"question\"]]\n",
    "    \n",
    "    # Tokenize the inputs (questions) with padding and truncation\n",
    "    model_inputs = tokenizer(inputs, max_length=512, truncation=True, padding=\"max_length\")\n",
    "    \n",
    "    # Tokenize the targets (answers) to create the labels\n",
    "    labels = tokenizer(text_target=examples[\"answer\"], max_length=512, truncation=True, padding=\"max_length\")\n",
    "    \n",
    "    # Add the labels to the model inputs\n",
    "    model_inputs[\"labels\"] = labels[\"input_ids\"]\n",
    "    \n",
    "    return model_inputs"
   ]
  },
  {
   "cell_type": "code",
   "execution_count": 9,
   "id": "4f039ddb",
   "metadata": {},
   "outputs": [
    {
     "name": "stderr",
     "output_type": "stream",
     "text": [
      "Map: 100%|██████████| 3209/3209 [00:00<00:00, 6230.40 examples/s]\n",
      "Map: 100%|██████████| 707/707 [00:00<00:00, 7524.80 examples/s]\n",
      "Map: 100%|██████████| 803/803 [00:00<00:00, 6393.10 examples/s]"
     ]
    },
    {
     "name": "stdout",
     "output_type": "stream",
     "text": [
      "DatasetDict({\n",
      "    train: Dataset({\n",
      "        features: ['input_ids', 'attention_mask', 'labels'],\n",
      "        num_rows: 3209\n",
      "    })\n",
      "    test: Dataset({\n",
      "        features: ['input_ids', 'attention_mask', 'labels'],\n",
      "        num_rows: 707\n",
      "    })\n",
      "    validation: Dataset({\n",
      "        features: ['input_ids', 'attention_mask', 'labels'],\n",
      "        num_rows: 803\n",
      "    })\n",
      "})\n"
     ]
    },
    {
     "name": "stderr",
     "output_type": "stream",
     "text": [
      "\n"
     ]
    }
   ],
   "source": [
    "# Apply the preprocessing function to the dataset\n",
    "tokenized_datasets = dataset_dict.map(preprocess_function, batched=True)\n",
    "\n",
    "# Remove the original columns as they are no longer needed by the model\n",
    "tokenized_datasets = tokenized_datasets.remove_columns([\"question\", \"answer\", \"id\", \"relevant_passage_ids\"])\n",
    "\n",
    "# Display the structure of the tokenized dataset\n",
    "print(tokenized_datasets)"
   ]
  },
  {
   "cell_type": "markdown",
   "id": "6baba770",
   "metadata": {},
   "source": [
    "# Save the Tokenized Dataset\n",
    "Save the preprocessed and tokenized `DatasetDict` to disk for use with the model training script."
   ]
  },
  {
   "cell_type": "code",
   "execution_count": 10,
   "id": "3cd688f7",
   "metadata": {},
   "outputs": [
    {
     "name": "stderr",
     "output_type": "stream",
     "text": [
      "Saving the dataset (1/1 shards): 100%|██████████| 3209/3209 [00:00<00:00, 408743.71 examples/s]\n",
      "Saving the dataset (1/1 shards): 100%|██████████| 707/707 [00:00<00:00, 66329.05 examples/s]\n",
      "Saving the dataset (1/1 shards): 100%|██████████| 803/803 [00:00<00:00, 110575.73 examples/s]"
     ]
    },
    {
     "name": "stdout",
     "output_type": "stream",
     "text": [
      "Tokenized dataset saved to data/tokenized_data\n"
     ]
    },
    {
     "name": "stderr",
     "output_type": "stream",
     "text": [
      "\n"
     ]
    }
   ],
   "source": [
    "# Create directory for the tokenized dataset\n",
    "tokenized_dataset_path = \"data/tokenized_data\"\n",
    "os.makedirs(tokenized_dataset_path, exist_ok=True)\n",
    "\n",
    "# Save the tokenized dataset to disk\n",
    "tokenized_datasets.save_to_disk(tokenized_dataset_path)\n",
    "print(f\"Tokenized dataset saved to {tokenized_dataset_path}\")"
   ]
  },
  {
   "cell_type": "markdown",
   "id": "e4f5a4bd",
   "metadata": {},
   "source": [
    "# Update the .env File (Optional)\n",
    "If you need to use the tokenized dataset for training, you may want to update the .env file to point to this new dataset."
   ]
  },
  {
   "cell_type": "code",
   "execution_count": 11,
   "id": "472bf970",
   "metadata": {},
   "outputs": [],
   "source": [
    "# This is a helper code to update the .env file if needed\n",
    "# Uncomment and run if you want to automatically update the .env file\n",
    "\n",
    "# import os\n",
    "# from dotenv import load_dotenv, find_dotenv, set_key\n",
    "\n",
    "# dotenv_path = find_dotenv()\n",
    "# load_dotenv(dotenv_path)\n",
    "\n",
    "# absolute_tokenized_path = os.path.abspath(tokenized_dataset_path)\n",
    "# set_key(dotenv_path, \"TOKENIZED_DATASET\", absolute_tokenized_path)\n",
    "\n",
    "# print(f\"Updated .env file with TOKENIZED_DATASET={absolute_tokenized_path}\")"
   ]
  },
  {
   "cell_type": "code",
   "execution_count": null,
   "id": "a495748f",
   "metadata": {},
   "outputs": [],
   "source": []
  }
 ],
 "metadata": {
  "kernelspec": {
   "display_name": ".venv",
   "language": "python",
   "name": "python3"
  },
  "language_info": {
   "codemirror_mode": {
    "name": "ipython",
    "version": 3
   },
   "file_extension": ".py",
   "mimetype": "text/x-python",
   "name": "python",
   "nbconvert_exporter": "python",
   "pygments_lexer": "ipython3",
   "version": "3.10.16"
  }
 },
 "nbformat": 4,
 "nbformat_minor": 5
}
