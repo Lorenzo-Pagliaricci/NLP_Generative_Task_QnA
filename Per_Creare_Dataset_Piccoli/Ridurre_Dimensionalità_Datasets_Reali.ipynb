{
 "cells": [
  {
   "cell_type": "code",
   "execution_count": null,
   "id": "initial_id",
   "metadata": {
    "collapsed": true
   },
   "outputs": [],
   "source": [
    "# - 'datasets' from Hugging Face to load and manipulate datasets.\n",
    "# - 'tabulate' for formatting and displaying tables in a readable format.\n",
    "!pip install datasets tabulate"
   ]
  },
  {
   "metadata": {},
   "cell_type": "code",
   "outputs": [],
   "execution_count": null,
   "source": [
    "import pandas as pd\n",
    "from datasets import load_dataset\n",
    "from tabulate import tabulate\n"
   ],
   "id": "4a510ed1bbffb0e7"
  },
  {
   "metadata": {},
   "cell_type": "code",
   "outputs": [],
   "execution_count": null,
   "source": [
    "# Load the datasets.\n",
    "dataset_Q_A = load_dataset(\"rag-datasets/rag-mini-bioasq\", \"question-answer-passages\")\n",
    "dataset_testi = load_dataset(\"rag-datasets/rag-mini-bioasq\", \"text-corpus\")"
   ],
   "id": "2d4d7ae75bad3672"
  },
  {
   "metadata": {
    "jupyter": {
     "is_executing": true
    }
   },
   "cell_type": "code",
   "source": [
    "# Convert the datasets into pandas DataFrames and save them in Parquet format.\n",
    "df_Q_A = pd.DataFrame(dataset_Q_A['test'])\n",
    "df_testi = pd.DataFrame(dataset_testi['passages'])"
   ],
   "id": "4f1c47d170ff8123",
   "outputs": [],
   "execution_count": null
  },
  {
   "metadata": {},
   "cell_type": "code",
   "outputs": [],
   "execution_count": null,
   "source": [
    "# SELECT a subset of rows (samples) from the 'df_Q_A' dataframe. (CHANGE THE NUMBER OF ROWS AS NEEDED)\n",
    "df_Q_A_small = df_Q_A.head(500)"
   ],
   "id": "ca142aa901198eb5"
  },
  {
   "metadata": {},
   "cell_type": "code",
   "outputs": [],
   "execution_count": null,
   "source": [
    "# Extract the relevant_passage_ids column\n",
    "relevant_passage_ids = df_Q_A_small['relevant_passage_ids'].apply(eval)\n",
    "\n",
    "# Save the smaller datasets to new Parquet files\n",
    "df_Q_A_small.to_parquet('dataset_Q_A_small.parquet')\n"
   ],
   "id": "8b2d781567bc393e"
  },
  {
   "metadata": {},
   "cell_type": "code",
   "outputs": [],
   "execution_count": null,
   "source": [
    "# Convert each number in the list to a string to avoid scientific notation\n",
    "relevant_passage_ids = relevant_passage_ids.apply(lambda x: [str(i) for i in x])\n",
    "\n",
    "# Create a new DataFrame where each number in the list is placed in a separate column\n",
    "df_relevant_passage_ids = pd.DataFrame(relevant_passage_ids.tolist(), dtype=object)\n",
    "\n",
    "# Rename the columns to 'contesto 1', 'contesto 2', etc.\n",
    "df_relevant_passage_ids.columns = [f'contesto {i+1}' for i in range(df_relevant_passage_ids.shape[1])]\n",
    "\n",
    "# 1. Extract all unique IDs from df_ids\n",
    "id_to_search = set()\n",
    "\n",
    "# Iterate through all rows and columns\n",
    "for _, row in df_relevant_passage_ids.iterrows():\n",
    "    for value in row:\n",
    "        if pd.notna(value):\n",
    "            # Convert to string for safety and add to the set\n",
    "            id_to_search.add(str(value).strip())\n",
    "\n",
    "# 2. Filter the text dataframe by checking if 'id' values are in the set of IDs to search\n",
    "filtered_df = df_testi[df_testi['id'].astype(str).str.strip().isin(id_to_search)]\n",
    "\n",
    "# 3. Remove any duplicates based on the 'id' column\n",
    "filtered_df = filtered_df.drop_duplicates(subset=['id'])"
   ],
   "id": "9b943a218a9b1654"
  },
  {
   "metadata": {},
   "cell_type": "code",
   "outputs": [],
   "execution_count": null,
   "source": [
    "# 4. Display the results\n",
    "# Print the 'df_Q_A_small' DataFrame in a table format using the 'psql' style\n",
    "print(tabulate(df_Q_A_small.head(5), headers='keys', tablefmt='psql'))\n",
    "\n",
    "# Print the 'filtered_df' DataFrame in a table format using the 'psql' style, without showing the index\n",
    "print(tabulate(filtered_df.head(5), headers='keys', tablefmt='psql', showindex=False))\n",
    "\n",
    "# 5. Save the new file\n",
    "# Save the 'filtered_df' DataFrame to a Parquet file\n",
    "filtered_df.to_parquet('dataset_CONTESTI_small.parquet')"
   ],
   "id": "a5c8879b1c9b2f9e"
  }
 ],
 "metadata": {
  "kernelspec": {
   "display_name": "Python 3",
   "language": "python",
   "name": "python3"
  },
  "language_info": {
   "codemirror_mode": {
    "name": "ipython",
    "version": 2
   },
   "file_extension": ".py",
   "mimetype": "text/x-python",
   "name": "python",
   "nbconvert_exporter": "python",
   "pygments_lexer": "ipython2",
   "version": "2.7.6"
  }
 },
 "nbformat": 4,
 "nbformat_minor": 5
}
